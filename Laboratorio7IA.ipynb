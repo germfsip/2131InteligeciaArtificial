{
  "nbformat": 4,
  "nbformat_minor": 0,
  "metadata": {
    "colab": {
      "name": "Laboratorio7IA.ipynb",
      "provenance": [],
      "collapsed_sections": [],
      "machine_shape": "hm",
      "include_colab_link": true
    },
    "kernelspec": {
      "name": "python3",
      "display_name": "Python 3"
    },
    "accelerator": "TPU"
  },
  "cells": [
    {
      "cell_type": "markdown",
      "metadata": {
        "id": "view-in-github",
        "colab_type": "text"
      },
      "source": [
        "<a href=\"https://colab.research.google.com/github/germfsip/2132InteligeciaArtificial/blob/main/Laboratorio7IA.ipynb\" target=\"_parent\"><img src=\"https://colab.research.google.com/assets/colab-badge.svg\" alt=\"Open In Colab\"/></a>"
      ]
    },
    {
      "cell_type": "markdown",
      "metadata": {
        "id": "WpTU6Fm6VQ-s"
      },
      "source": [
        "# Visión Computacional\n",
        "## Dr. Gerardo Mtz\n",
        "## Lección 7 - Redes Neuronales convolucionales\n"
      ]
    },
    {
      "cell_type": "markdown",
      "metadata": {
        "id": "ngsxf6Dp-Zh8"
      },
      "source": [
        "Primeramente importamos unos paquetes"
      ]
    },
    {
      "cell_type": "code",
      "metadata": {
        "id": "zVop1APMUX5I"
      },
      "source": [
        "# Importamos numpy y matplotlib\n",
        "import numpy as np\n",
        "import matplotlib.pyplot as plt\n",
        "\n",
        "# Importamos lo necesario para crear la red\n",
        "from tensorflow import keras\n",
        "from keras.datasets import mnist\n",
        "from keras.models import Sequential\n",
        "from keras.layers import Dense, Dropout, Flatten\n",
        "from keras.layers import Conv2D, MaxPooling2D\n",
        "from keras import backend\n",
        "\n",
        "# Importamos unos paquetes de sklearn para comprobar el modelo\n",
        "from sklearn.metrics import classification_report, confusion_matrix"
      ],
      "execution_count": 1,
      "outputs": []
    },
    {
      "cell_type": "markdown",
      "metadata": {
        "id": "MKSs3Oax-0on"
      },
      "source": [
        "Cargamos el dataset de MNIST"
      ]
    },
    {
      "cell_type": "code",
      "metadata": {
        "id": "Po4byVAcVM0R",
        "colab": {
          "base_uri": "https://localhost:8080/"
        },
        "outputId": "8398b711-2f83-4f79-c3aa-44f183ef8904"
      },
      "source": [
        "(xtrain, ytrain), (xtest, ytest) = mnist.load_data()"
      ],
      "execution_count": 2,
      "outputs": [
        {
          "output_type": "stream",
          "text": [
            "Downloading data from https://storage.googleapis.com/tensorflow/tf-keras-datasets/mnist.npz\n",
            "11493376/11490434 [==============================] - 0s 0us/step\n",
            "11501568/11490434 [==============================] - 0s 0us/step\n"
          ],
          "name": "stdout"
        }
      ]
    },
    {
      "cell_type": "markdown",
      "metadata": {
        "id": "514SgKuu-3qQ"
      },
      "source": [
        "Mostrartemos un ejemplo de manera aleatoria"
      ]
    },
    {
      "cell_type": "code",
      "metadata": {
        "id": "hQVvX4_lWFoe",
        "colab": {
          "base_uri": "https://localhost:8080/",
          "height": 298
        },
        "outputId": "446deae6-55d9-465d-f8cb-40f8e288d2f8"
      },
      "source": [
        "sample = np.random.randint(0,60000)\n",
        "plt.imshow(xtrain[sample], cmap=plt.cm.gray)\n",
        "plt.title('Label: ' + str(ytrain[sample]))"
      ],
      "execution_count": 3,
      "outputs": [
        {
          "output_type": "execute_result",
          "data": {
            "text/plain": [
              "Text(0.5, 1.0, 'Label: 2')"
            ]
          },
          "metadata": {
            "tags": []
          },
          "execution_count": 3
        },
        {
          "output_type": "display_data",
          "data": {
            "image/png": "[encoded data removed]",
            "text/plain": [
              "<Figure size 432x288 with 1 Axes>"
            ]
          },
          "metadata": {
            "tags": [],
            "needs_background": "light"
          }
        }
      ]
    },
    {
      "cell_type": "code",
      "metadata": {
        "id": "c7FSDURcWjjn",
        "colab": {
          "base_uri": "https://localhost:8080/"
        },
        "outputId": "4c17bb6a-0339-4ad9-8f75-2a8ab39bf271"
      },
      "source": [
        "xtrain = xtrain.astype('float32')/255\n",
        "xtest = xtest.astype('float32')/255\n",
        "\n",
        "if backend.image_data_format() == 'channels_first':\n",
        "    xtrain = xtrain.reshape(xtrain.shape[0], 1, 28, 28)\n",
        "    xtest = xtest.reshape(xtest.shape[0], 1, 28, 28)\n",
        "    input_shape = (1, 28, 28)\n",
        "else:\n",
        "    xtrain = xtrain.reshape(xtrain.shape[0], 28, 28, 1)\n",
        "    xtest = xtest.reshape(xtest.shape[0], 28, 28, 1)\n",
        "    input_shape = (28, 28, 1)\n",
        "\n",
        "print(xtrain.shape)\n",
        "print(input_shape)"
      ],
      "execution_count": 4,
      "outputs": [
        {
          "output_type": "stream",
          "text": [
            "(60000, 28, 28, 1)\n",
            "(28, 28, 1)\n"
          ],
          "name": "stdout"
        }
      ]
    },
    {
      "cell_type": "code",
      "metadata": {
        "id": "Bvfkzzq6XTlQ",
        "colab": {
          "base_uri": "https://localhost:8080/"
        },
        "outputId": "88b71b96-45ca-4d2e-9245-cd6cf6c63a0c"
      },
      "source": [
        "print(ytrain[0])\n",
        "ytrain = keras.utils.to_categorical(ytrain, 10)\n",
        "print(ytrain[0])"
      ],
      "execution_count": 5,
      "outputs": [
        {
          "output_type": "stream",
          "text": [
            "5\n",
            "[0. 0. 0. 0. 0. 1. 0. 0. 0. 0.]\n"
          ],
          "name": "stdout"
        }
      ]
    },
    {
      "cell_type": "code",
      "metadata": {
        "id": "C2Ef3VekYU2V"
      },
      "source": [
        "def build_model():\n",
        "  model = Sequential()\n",
        "\n",
        "  model.add(Conv2D(32,kernel_size=(3,3),\n",
        "                   activation='relu',\n",
        "                   input_shape=input_shape))\n",
        "  model.add(MaxPooling2D(pool_size=(2,2)))\n",
        "  model.add(Dropout(0.25))\n",
        "\n",
        "  model.add(Conv2D(64, kernel_size=(3,3), activation='relu'))\n",
        "  model.add(MaxPooling2D(pool_size=(2,2)))\n",
        "  model.add(Dropout(0.25))\n",
        "\n",
        "  model.add(Conv2D(128, kernel_size=(3,3), activation='relu'))\n",
        "  model.add(MaxPooling2D(pool_size=(2,2)))\n",
        "  model.add(Dropout(0.25))\n",
        "\n",
        "  model.add(Flatten())\n",
        "  model.add(Dense(128, activation='relu'))\n",
        "  model.add(Dropout(0.5))\n",
        "  model.add(Dense(10, activation='softmax'))\n",
        "\n",
        "  model.compile(loss = keras.losses.categorical_crossentropy,\n",
        "                optimizer = 'adam',\n",
        "                metrics=['accuracy'])\n",
        "  return model"
      ],
      "execution_count": 6,
      "outputs": []
    },
    {
      "cell_type": "code",
      "metadata": {
        "id": "Da6Y4I4fA_Hh",
        "colab": {
          "base_uri": "https://localhost:8080/"
        },
        "outputId": "708e21c5-3f23-4502-c625-25fdb1d87c76"
      },
      "source": [
        "model = build_model()\n",
        "model.summary()"
      ],
      "execution_count": 7,
      "outputs": [
        {
          "output_type": "stream",
          "text": [
            "Model: \"sequential\"\n",
            "_________________________________________________________________\n",
            "Layer (type)                 Output Shape              Param #   \n",
            "=================================================================\n",
            "conv2d (Conv2D)              (None, 26, 26, 32)        320       \n",
            "_________________________________________________________________\n",
            "max_pooling2d (MaxPooling2D) (None, 13, 13, 32)        0         \n",
            "_________________________________________________________________\n",
            "dropout (Dropout)            (None, 13, 13, 32)        0         \n",
            "_________________________________________________________________\n",
            "conv2d_1 (Conv2D)            (None, 11, 11, 64)        18496     \n",
            "_________________________________________________________________\n",
            "max_pooling2d_1 (MaxPooling2 (None, 5, 5, 64)          0         \n",
            "_________________________________________________________________\n",
            "dropout_1 (Dropout)          (None, 5, 5, 64)          0         \n",
            "_________________________________________________________________\n",
            "conv2d_2 (Conv2D)            (None, 3, 3, 128)         73856     \n",
            "_________________________________________________________________\n",
            "max_pooling2d_2 (MaxPooling2 (None, 1, 1, 128)         0         \n",
            "_________________________________________________________________\n",
            "dropout_2 (Dropout)          (None, 1, 1, 128)         0         \n",
            "_________________________________________________________________\n",
            "flatten (Flatten)            (None, 128)               0         \n",
            "_________________________________________________________________\n",
            "dense (Dense)                (None, 128)               16512     \n",
            "_________________________________________________________________\n",
            "dropout_3 (Dropout)          (None, 128)               0         \n",
            "_________________________________________________________________\n",
            "dense_1 (Dense)              (None, 10)                1290      \n",
            "=================================================================\n",
            "Total params: 110,474\n",
            "Trainable params: 110,474\n",
            "Non-trainable params: 0\n",
            "_________________________________________________________________\n"
          ],
          "name": "stdout"
        }
      ]
    },
    {
      "cell_type": "code",
      "metadata": {
        "id": "YKryCRw8aWRX",
        "colab": {
          "base_uri": "https://localhost:8080/"
        },
        "outputId": "49a4ade4-cc39-4931-9997-72becaf6c449"
      },
      "source": [
        "model.fit(xtrain, ytrain, batch_size=256, epochs=12, verbose=1,\n",
        "          validation_split=0.17)"
      ],
      "execution_count": 8,
      "outputs": [
        {
          "output_type": "stream",
          "text": [
            "Epoch 1/12\n",
            "195/195 [==============================] - 22s 34ms/step - loss: 1.3930 - accuracy: 0.5161 - val_loss: 0.1692 - val_accuracy: 0.9492\n",
            "Epoch 2/12\n",
            "195/195 [==============================] - 6s 31ms/step - loss: 0.2919 - accuracy: 0.9122 - val_loss: 0.0980 - val_accuracy: 0.9712\n",
            "Epoch 3/12\n",
            "195/195 [==============================] - 6s 31ms/step - loss: 0.2019 - accuracy: 0.9409 - val_loss: 0.0873 - val_accuracy: 0.9736\n",
            "Epoch 4/12\n",
            "195/195 [==============================] - 6s 31ms/step - loss: 0.1577 - accuracy: 0.9545 - val_loss: 0.0668 - val_accuracy: 0.9799\n",
            "Epoch 5/12\n",
            "195/195 [==============================] - 6s 32ms/step - loss: 0.1324 - accuracy: 0.9615 - val_loss: 0.0621 - val_accuracy: 0.9822\n",
            "Epoch 6/12\n",
            "195/195 [==============================] - 6s 32ms/step - loss: 0.1232 - accuracy: 0.9634 - val_loss: 0.0592 - val_accuracy: 0.9821\n",
            "Epoch 7/12\n",
            "195/195 [==============================] - 6s 31ms/step - loss: 0.1078 - accuracy: 0.9676 - val_loss: 0.0540 - val_accuracy: 0.9830\n",
            "Epoch 8/12\n",
            "195/195 [==============================] - 6s 31ms/step - loss: 0.0974 - accuracy: 0.9711 - val_loss: 0.0499 - val_accuracy: 0.9854\n",
            "Epoch 9/12\n",
            "195/195 [==============================] - 6s 31ms/step - loss: 0.0900 - accuracy: 0.9734 - val_loss: 0.0464 - val_accuracy: 0.9862\n",
            "Epoch 10/12\n",
            "195/195 [==============================] - 6s 31ms/step - loss: 0.0802 - accuracy: 0.9753 - val_loss: 0.0463 - val_accuracy: 0.9861\n",
            "Epoch 11/12\n",
            "195/195 [==============================] - 6s 32ms/step - loss: 0.0767 - accuracy: 0.9771 - val_loss: 0.0478 - val_accuracy: 0.9859\n",
            "Epoch 12/12\n",
            "195/195 [==============================] - 6s 32ms/step - loss: 0.0751 - accuracy: 0.9768 - val_loss: 0.0462 - val_accuracy: 0.9872\n"
          ],
          "name": "stdout"
        },
        {
          "output_type": "execute_result",
          "data": {
            "text/plain": [
              "<keras.callbacks.History at 0x7f1a7538f590>"
            ]
          },
          "metadata": {
            "tags": []
          },
          "execution_count": 8
        }
      ]
    },
    {
      "cell_type": "code",
      "metadata": {
        "id": "o9FBcoA77BeR",
        "colab": {
          "base_uri": "https://localhost:8080/"
        },
        "outputId": "ace09052-998a-4b9d-cd7e-4c85782d25ff"
      },
      "source": [
        "ypred=model.predict(xtest)\n",
        "print('Salida de la red:\\n', ypred[0])"
      ],
      "execution_count": 9,
      "outputs": [
        {
          "output_type": "stream",
          "text": [
            "Salida de la red:\n",
            " [1.6862887e-09 1.3162610e-05 2.9644189e-05 7.0829151e-06 1.3477598e-08\n",
            " 1.2317407e-08 1.2528044e-12 9.9994779e-01 6.4415133e-08 2.2188742e-06]\n"
          ],
          "name": "stdout"
        }
      ]
    },
    {
      "cell_type": "code",
      "metadata": {
        "colab": {
          "base_uri": "https://localhost:8080/"
        },
        "id": "sHrRcJsYPe4S",
        "outputId": "de0349b5-84ae-477b-cc62-bf10f24c8b03"
      },
      "source": [
        "ypred = np.argmax(ypred, axis=1)\n",
        "print('Predicciones:\\n', ypred)"
      ],
      "execution_count": 10,
      "outputs": [
        {
          "output_type": "stream",
          "text": [
            "Predicciones:\n",
            " [7 2 1 ... 4 5 6]\n"
          ],
          "name": "stdout"
        }
      ]
    },
    {
      "cell_type": "code",
      "metadata": {
        "colab": {
          "base_uri": "https://localhost:8080/"
        },
        "id": "mxoeENuAPghV",
        "outputId": "3a93537c-cd33-4ca6-84bc-6b57e4f630b7"
      },
      "source": [
        "print('Reporte de clasificación:\\n', classification_report(ytest, ypred))\n",
        "print('Matriz de confusión:\\n', confusion_matrix(ytest, ypred))"
      ],
      "execution_count": 11,
      "outputs": [
        {
          "output_type": "stream",
          "text": [
            "Reporte de clasificación:\n",
            "               precision    recall  f1-score   support\n",
            "\n",
            "           0       0.99      0.99      0.99       980\n",
            "           1       0.98      1.00      0.99      1135\n",
            "           2       0.99      0.98      0.98      1032\n",
            "           3       0.99      1.00      0.99      1010\n",
            "           4       0.99      0.99      0.99       982\n",
            "           5       0.99      0.99      0.99       892\n",
            "           6       0.99      0.99      0.99       958\n",
            "           7       0.97      0.99      0.98      1028\n",
            "           8       0.99      0.98      0.99       974\n",
            "           9       0.99      0.97      0.98      1009\n",
            "\n",
            "    accuracy                           0.99     10000\n",
            "   macro avg       0.99      0.99      0.99     10000\n",
            "weighted avg       0.99      0.99      0.99     10000\n",
            "\n",
            "Matriz de confusión:\n",
            " [[ 971    2    1    1    0    0    1    3    0    1]\n",
            " [   0 1132    0    2    0    0    1    0    0    0]\n",
            " [   2    1 1012    3    0    0    1   13    0    0]\n",
            " [   0    1    1 1005    0    1    0    2    0    0]\n",
            " [   0    1    2    0  973    0    4    0    0    2]\n",
            " [   3    1    0    6    0  879    2    1    0    0]\n",
            " [   1    3    1    0    1    1  951    0    0    0]\n",
            " [   0    6    4    1    0    1    0 1014    1    1]\n",
            " [   2    0    2    1    3    1    3    3  957    2]\n",
            " [   2    4    0    0    5    6    1    8    4  979]]\n"
          ],
          "name": "stdout"
        }
      ]
    },
    {
      "cell_type": "code",
      "metadata": {
        "id": "d8kEVSI9gobE",
        "colab": {
          "base_uri": "https://localhost:8080/",
          "height": 281
        },
        "outputId": "a6ada502-4ebc-45f2-ed72-2b5bdf3b3704"
      },
      "source": [
        "sample = np.random.randint(0,10000)\n",
        "x = xtest[sample].reshape(28,28)\n",
        "plt.imshow(x, cmap=plt.cm.gray)\n",
        "plt.title('Prediction: ' + str(ypred[sample]))\n",
        "plt.show()"
      ],
      "execution_count": 12,
      "outputs": [
        {
          "output_type": "display_data",
          "data": {
            "image/png": "[encoded data removed]",
            "text/plain": [
              "<Figure size 432x288 with 1 Axes>"
            ]
          },
          "metadata": {
            "tags": [],
            "needs_background": "light"
          }
        }
      ]
    }
  ]
}