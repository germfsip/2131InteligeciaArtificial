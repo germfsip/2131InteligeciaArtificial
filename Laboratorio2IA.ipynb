{
  "nbformat": 4,
  "nbformat_minor": 0,
  "metadata": {
    "colab": {
      "name": "Laboratorio2IA.ipynb",
      "provenance": [],
      "authorship_tag": "ABX9TyPR8v/qOOFrT7+L91zodYFT",
      "include_colab_link": true
    },
    "kernelspec": {
      "name": "python3",
      "display_name": "Python 3"
    },
    "language_info": {
      "name": "python"
    }
  },
  "cells": [
    {
      "cell_type": "markdown",
      "metadata": {
        "id": "view-in-github",
        "colab_type": "text"
      },
      "source": [
        "<a href=\"https://colab.research.google.com/github/germfsip/2132InteligeciaArtificial/blob/main/Laboratorio2IA.ipynb\" target=\"_parent\"><img src=\"https://colab.research.google.com/assets/colab-badge.svg\" alt=\"Open In Colab\"/></a>"
      ]
    },
    {
      "cell_type": "markdown",
      "metadata": {
        "id": "cuLg3WtFiAZ_"
      },
      "source": [
        "# Reconocimiento de Patrones\n",
        "## Dr. Gerardo Martinez\n",
        "### Lección 2 - Agentes inteligentes\n",
        "Primeramente importemos algunos paquetes para realizar la instalación del chatterbot"
      ]
    },
    {
      "cell_type": "code",
      "metadata": {
        "colab": {
          "base_uri": "https://localhost:8080/"
        },
        "id": "U9UaQR3MmvQW",
        "outputId": "4ba0d2d3-a23b-47a9-b8c1-a626c7b97edb"
      },
      "source": [
        "pip install chatterbot"
      ],
      "execution_count": 1,
      "outputs": [
        {
          "output_type": "stream",
          "text": [
            "Collecting chatterbot\n",
            "\u001b[?25l  Downloading https://files.pythonhosted.org/packages/7c/21/85c2b114bd9dfabdd46ba58fc4519acdaed45d8c70898d40079e37a45e67/ChatterBot-1.0.8-py2.py3-none-any.whl (63kB)\n",
            "\r\u001b[K     |█████▏                          | 10kB 15.6MB/s eta 0:00:01\r\u001b[K     |██████████▎                     | 20kB 22.1MB/s eta 0:00:01\r\u001b[K     |███████████████▌                | 30kB 23.8MB/s eta 0:00:01\r\u001b[K     |████████████████████▋           | 40kB 26.0MB/s eta 0:00:01\r\u001b[K     |█████████████████████████▊      | 51kB 28.5MB/s eta 0:00:01\r\u001b[K     |███████████████████████████████ | 61kB 31.0MB/s eta 0:00:01\r\u001b[K     |████████████████████████████████| 71kB 8.6MB/s \n",
            "\u001b[?25hRequirement already satisfied: pytz in /usr/local/lib/python3.7/dist-packages (from chatterbot) (2018.9)\n",
            "Collecting mathparse<0.2,>=0.1\n",
            "  Downloading https://files.pythonhosted.org/packages/c3/e5/4910fb85950cb960fcf3f5aabe1c8e55f5c9201788a1c1302b570a7e1f84/mathparse-0.1.2-py3-none-any.whl\n",
            "Requirement already satisfied: python-dateutil<2.9,>=2.8 in /usr/local/lib/python3.7/dist-packages (from chatterbot) (2.8.1)\n",
            "Collecting sqlalchemy<1.4,>=1.3\n",
            "\u001b[?25l  Downloading https://files.pythonhosted.org/packages/31/44/a86070dda790ce94cd7d9fb9281cd614c7d30850ed774ace9a84d0d5d491/SQLAlchemy-1.3.24-cp37-cp37m-manylinux2010_x86_64.whl (1.3MB)\n",
            "\u001b[K     |████████████████████████████████| 1.3MB 27.5MB/s \n",
            "\u001b[?25hRequirement already satisfied: six>=1.5 in /usr/local/lib/python3.7/dist-packages (from python-dateutil<2.9,>=2.8->chatterbot) (1.15.0)\n",
            "Installing collected packages: mathparse, sqlalchemy, chatterbot\n",
            "  Found existing installation: SQLAlchemy 1.4.15\n",
            "    Uninstalling SQLAlchemy-1.4.15:\n",
            "      Successfully uninstalled SQLAlchemy-1.4.15\n",
            "Successfully installed chatterbot-1.0.8 mathparse-0.1.2 sqlalchemy-1.3.24\n"
          ],
          "name": "stdout"
        }
      ]
    },
    {
      "cell_type": "markdown",
      "metadata": {
        "id": "J1WEZ45YiPi6"
      },
      "source": [
        "Instanciamos un objeto Bot que nos permitira iniciar un agente con noción débil ya que solo responde a 3 questionamientos"
      ]
    },
    {
      "cell_type": "code",
      "metadata": {
        "colab": {
          "base_uri": "https://localhost:8080/"
        },
        "id": "dji1fnf7puIg",
        "outputId": "65d178f7-dd09-404b-dc03-2a3efb510a75"
      },
      "source": [
        "from chatterbot import ChatBot\n",
        "from chatterbot.trainers import ListTrainer\n",
        "\n",
        "# Create a new chat bot named Charlie\n",
        "chatbot = ChatBot('Charlie')\n",
        "\n",
        "trainer = ListTrainer(chatbot)\n",
        "\n",
        "trainer.train([\n",
        "    \"Hola, ¿Como puedo apoyarte?\",\n",
        "    \"Claro, si es posible.\",\n",
        "    \"Tu vuelo ha sido registrado.\"\n",
        "])\n",
        "\n",
        "response = chatbot.get_response('Hola.')\n",
        "\n",
        "print(response)"
      ],
      "execution_count": 3,
      "outputs": [
        {
          "output_type": "stream",
          "text": [
            "List Trainer: [####################] 100%\n",
            "Tu vuelo ha sido registrado.\n"
          ],
          "name": "stdout"
        }
      ]
    },
    {
      "cell_type": "markdown",
      "metadata": {
        "id": "Wi9R6U09v7_i"
      },
      "source": [
        "Muy bien, es hora de convertir nuestro Bot débil a fuerte, en algo más funcional. Lo que haremos será crear un Jarvis que pueda realizar operaciones aritméticas y que nos pueda dar la hora:"
      ]
    },
    {
      "cell_type": "code",
      "metadata": {
        "colab": {
          "base_uri": "https://localhost:8080/"
        },
        "id": "4vtQp_dNoO7R",
        "outputId": "3afa6d14-cd6b-4259-fb67-a2778416de8e"
      },
      "source": [
        "from chatterbot import ChatBot\n",
        "\n",
        "# Creamos a jarvis y definimos sus caracteristicas\n",
        "bot = ChatBot(\n",
        "    \"jarvis\",\n",
        "    logic_adapters=[ # Importamos los adaptadores\n",
        "        \"chatterbot.logic.MathematicalEvaluation\",\n",
        "        \"chatterbot.logic.TimeLogicAdapter\"\n",
        "    ],\n",
        "    input_adapter=\"chatterbot.input.VariableInputTypeAdapter\",\n",
        "    output_adapter=\"chatterbot.output.OutputAdapter\"\n",
        ")\n",
        "\n",
        "# Le preguntamos a Jarvis cuanto es 30 * 4\n",
        "response = bot.get_response(\"What is 30 * 4?\")\n",
        "print(response) # mostramos la respuesta de Jarvis\n",
        "\n",
        "# Le preguntamos a jarvis ¿que hora es?\n",
        "response = bot.get_response(\"What time is it?\")\n",
        "print(response) # Mostramos la respuesta de jarvis"
      ],
      "execution_count": null,
      "outputs": [
        {
          "output_type": "stream",
          "text": [
            "INFO:chatterbot.chatterbot:MathematicalEvaluation selected \"30 * 4 = 120\" as a response with a confidence of 1\n",
            "INFO:chatterbot.chatterbot:TimeLogicAdapter selected \"The current time is 04:51 PM\" as a response with a confidence of 1\n",
            "INFO:chatterbot.chatterbot:Adding \"What is 30 * 4?\" as a response to \"Hola.\"\n",
            "INFO:chatterbot.chatterbot:Not processing the statement using MathematicalEvaluation\n",
            "INFO:chatterbot.chatterbot:TimeLogicAdapter selected \"The current time is 04:51 PM\" as a response with a confidence of 1\n",
            "INFO:chatterbot.chatterbot:Adding \"What time is it?\" as a response to \"What is 30 * 4?\"\n"
          ],
          "name": "stderr"
        },
        {
          "output_type": "stream",
          "text": [
            "30 * 4 = 120\n",
            "The current time is 04:51 PM\n"
          ],
          "name": "stdout"
        }
      ]
    }
  ]
}